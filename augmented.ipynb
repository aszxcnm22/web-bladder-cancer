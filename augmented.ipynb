{
 "cells": [
  {
   "cell_type": "code",
   "execution_count": null,
   "id": "c0953bfb",
   "metadata": {},
   "outputs": [],
   "source": [
    "import os\n",
    "from torchvision import datasets, transforms, models\n",
    "from torch.utils.data import DataLoader, random_split\n",
    "\n",
    "import matplotlib.pyplot as plt\n",
    "from sklearn.metrics import confusion_matrix, ConfusionMatrixDisplay, accuracy_score, precision_score, recall_score, f1_score, classification_report\n",
    "\n",
    "\n",
    "# ======================\n",
    "# 0. Data Augmentation\n",
    "# ======================\n",
    "input_path = r\"C:\\wwwwd\\Center New\"         # โฟลเดอร์ต้นฉบับ\n",
    "augmented_output_path = r\"C:\\wwwwd\\AugmentedDataset\"  # โฟลเดอร์เก็บภาพ augment\n",
    "os.makedirs(augmented_output_path, exist_ok=True)\n",
    "\n",
    "datagen = ImageDataGenerator(\n",
    "    rotation_range=10,\n",
    "    fill_mode='nearest'\n",
    ")\n",
    "\n",
    "print(\"=== Start Data Augmentation ===\")\n",
    "for class_name in os.listdir(input_path):\n",
    "    class_path = os.path.join(input_path, class_name)\n",
    "    save_path = os.path.join(augmented_output_path, class_name)\n",
    "    os.makedirs(save_path, exist_ok=True)\n",
    "\n",
    "    for img_name in os.listdir(class_path):\n",
    "        img_path = os.path.join(class_path, img_name)\n",
    "        img = load_img(img_path)\n",
    "        x = img_to_array(img)\n",
    "        x = x.reshape((1,) + x.shape)\n",
    "\n",
    "        i = 0\n",
    "        for batch in datagen.flow(x, batch_size=1, save_to_dir=save_path, save_prefix='aug', save_format='jpg'):\n",
    "            i += 1\n",
    "            if i >= 5:  # 5 ภาพต่อรูปต้นฉบับ\n",
    "                break\n",
    "print(\"=== Data Augmentation Completed ===\\n\")"
   ]
  }
 ],
 "metadata": {
  "language_info": {
   "name": "python"
  }
 },
 "nbformat": 4,
 "nbformat_minor": 5
}
